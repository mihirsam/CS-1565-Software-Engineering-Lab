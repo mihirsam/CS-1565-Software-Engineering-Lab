{
 "cells": [
  {
   "cell_type": "code",
   "execution_count": null,
   "metadata": {},
   "outputs": [],
   "source": [
    "import random"
   ]
  },
  {
   "cell_type": "code",
   "execution_count": null,
   "metadata": {},
   "outputs": [],
   "source": [
    "UserDetails = {}\n",
    "UserTransRecord = {}\n",
    "AdminDetails = {'admin' : 'admin123'}"
   ]
  },
  {
   "cell_type": "code",
   "execution_count": null,
   "metadata": {},
   "outputs": [],
   "source": [
    "def UserReg():\n",
    "    print(\"\\nWELCOME TO USER REGISTRATION\\n\")\n",
    "    \n",
    "    nam = input(\"Enter Name : \")\n",
    "    pas = input(\"Enter Password : \")\n",
    "    accNo = random.randint(1000, 10000)\n",
    "    \n",
    "    while(True):\n",
    "        if accNo not in UserDetails.keys():\n",
    "            break\n",
    "        else:\n",
    "            accNo = random.randint(1000, 10000)\n",
    "    \n",
    "    bal = 10000\n",
    "    temp = [nam, pas, accNo, bal]\n",
    "    UserDetails[accNo] = temp\n",
    "    UserTransRecord[accNo] = []\n",
    "    \n",
    "    print(\"\\nYour New Account Number : {}\" .format(accNo))\n",
    "    print(\"\\nREGISTRATION HAS BEEN COMPLETED!\")"
   ]
  },
  {
   "cell_type": "code",
   "execution_count": null,
   "metadata": {},
   "outputs": [],
   "source": [
    "def UserLogIn():\n",
    "    accNo = int(input(\"Enter Account Name : \"))\n",
    "    pas = input(\"Enter Password : \")\n",
    "    \n",
    "    if accNo in UserDetails.keys():\n",
    "        if UserDetails[accNo][1] == pas:\n",
    "            print(\"\\nLog-In Successful!\\n\")\n",
    "            UserPortal(accNo)\n",
    "        else:\n",
    "            print(\"\\nWrong Password!\")\n",
    "    else:\n",
    "        print(\"\\nUser Not Found!\")"
   ]
  },
  {
   "cell_type": "code",
   "execution_count": null,
   "metadata": {},
   "outputs": [],
   "source": [
    "def UserPortal(accNo):\n",
    "    print(\"\\n\\nWELCOME {} TO CHOTU Sa BANK\\n\" .formatDetails[accNo][0])\n",
    "    \n",
    "    while(True):\n",
    "        choice = int(input(\"1. Check Balance\\n2. Fund Transfer\\n 3. Transaction History\\n4. Back\\n\\nChoice : \"))\n",
    "        \n",
    "        if choice == 1:\n",
    "            print(\"\\nBalance : {}\\n\" .format(UserDetails[accNo][3]))\n",
    "        \n",
    "        elif choice == 2:\n",
    "            FundTransfer(accNo)\n",
    "            \n",
    "        elif choice == 3:\n",
    "            TransHist(accNo)\n",
    "            \n",
    "        elif choice == 4:\n",
    "            break\n",
    "            \n",
    "        else:\n",
    "            print(\"\\nInvalid Input!\\nTry Again!\")"
   ]
  },
  {
   "cell_type": "code",
   "execution_count": null,
   "metadata": {},
   "outputs": [],
   "source": [
    "def FundTransfer(accNo):\n",
    "    print(\"\\n\\nWELCOME {} TO FUND TRANSFER UNIT\\n\" .format(UserDetails[accNo][0]))\n",
    "    print(\"Current Account Balance : {}\" .format(UserDetails[accNo][3]))\n",
    "    \n",
    "    accNoTemp = int(input(\"Enter Account Number Of Reciever : \"))\n",
    "    amt = int(input(\"Enter Amount To Transfer : \"))\n",
    "    \n",
    "    if amt > UserDetails[accNo][3]:\n",
    "        print(\"\\nSorry, Insufficient Balance!\")\n",
    "    else:\n",
    "        UserDetails[accNo][3] -= amt\n",
    "        UserDetails[accNoTemp][3] += amt\n",
    "        \n",
    "        record = (accNo, accNoTemp, amt)\n",
    "        UserTransRecord[accNo].append(record)\n",
    "        UserTransRecord[accNoTemp].append(record)\n",
    "        \n",
    "        print(\"\\nSuccessfully Transfered {} To {}(Acc No. {})\\n\" .format(amt, UserDetails[accNoTemp][0], accNoTemp))\n",
    "        print(\"Current Account Balance : {}\" .format(UserDetails[accNo][3]))"
   ]
  },
  {
   "cell_type": "code",
   "execution_count": null,
   "metadata": {},
   "outputs": [],
   "source": [
    "def TransHist(accNo):\n",
    "    print(\"\\nTRANSACTION HISTORY OF {}\\n\\n\" .format(UserDetails[accNo][0]))\n",
    "    \n",
    "    for i in range(0, len(UserTransRecord[accNo])):\n",
    "        print(\"From : {}\\tTo : {}\\tAmount : {}\" .format(UserTransRecord[accNo][i][0], UserTransRecord[accNo][i][1], UserTransRecord[accNo][i][2]))"
   ]
  },
  {
   "cell_type": "code",
   "execution_count": null,
   "metadata": {},
   "outputs": [],
   "source": [
    "while(True):\n",
    "    print(\"\\nWELCOME TO CHOTU Sa BANK\\n\")\n",
    "    choice = int(input(\"1. User Registration\\n2. User Log-In\\n3. Exit\\n\\nChoice \"))\n",
    "    \n",
    "    if choice == 1:\n",
    "        UserReg()\n",
    "    elif choice == 2:\n",
    "        UserLogIn()\n",
    "    elif choice == 3:\n",
    "        break\n",
    "    else:\n",
    "        print(\"\\nInvalid Input! Try again!\")"
   ]
  },
  {
   "cell_type": "code",
   "execution_count": null,
   "metadata": {},
   "outputs": [],
   "source": [
    "xyz = {}\n",
    "xyz[1] = []"
   ]
  },
  {
   "cell_type": "code",
   "execution_count": null,
   "metadata": {},
   "outputs": [],
   "source": [
    "tpl = (1, 2, 3)\n",
    "bpl = (2, 3, 4)\n",
    "xyz[1].append(tpl)\n",
    "xyz[1].append(bpl)\n",
    "xyz"
   ]
  },
  {
   "cell_type": "code",
   "execution_count": null,
   "metadata": {},
   "outputs": [],
   "source": [
    "xyz[1][2][1]"
   ]
  },
  {
   "cell_type": "code",
   "execution_count": null,
   "metadata": {},
   "outputs": [],
   "source": [
    "rec = [1, 2, 3]\n",
    "print(len(rec))\n",
    "type(rec)"
   ]
  },
  {
   "cell_type": "code",
   "execution_count": null,
   "metadata": {},
   "outputs": [],
   "source": []
  }
 ],
 "metadata": {
  "kernelspec": {
   "display_name": "Python 3",
   "language": "python",
   "name": "python3"
  },
  "language_info": {
   "codemirror_mode": {
    "name": "ipython",
    "version": 3
   },
   "file_extension": ".py",
   "mimetype": "text/x-python",
   "name": "python",
   "nbconvert_exporter": "python",
   "pygments_lexer": "ipython3",
   "version": "3.6.6"
  }
 },
 "nbformat": 4,
 "nbformat_minor": 2
}
